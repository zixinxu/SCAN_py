{
 "cells": [
  {
   "cell_type": "code",
   "execution_count": null,
   "id": "e23202b5-f92a-4c35-af5a-a2a382bc1060",
   "metadata": {},
   "outputs": [
    {
     "name": "stdout",
     "output_type": "stream",
     "text": [
      "Random Seed:  402\n"
     ]
    }
   ],
   "source": [
    "# !pip install torchmetrics\n",
    "# !pip install git+https://github.com/phasepack/fasta-python \n",
    "# !pip install scikit-image\n",
    "# !pip install pytorch-msssim\n",
    "# !pip install wandb\n",
    "import os\n",
    "os.environ['KMP_DUPLICATE_LIB_OK']='True'\n",
    "\n",
    "from Models import SIREN # SCAN\n",
    "import matplotlib.pyplot as plt\n",
    "from PIL import Image,ImageChops\n",
    "from torchvision.transforms import Resize\n",
    "\n",
    "import time\n",
    "import torch\n",
    "import numpy as np\n",
    "from Formation import simulation, registration, evaluate\n",
    "import random\n",
    "import time\n",
    "\n",
    "manualSeed = 402\n",
    "# manualSeed = random.randint(1, 10000)  # use if you want new results\n",
    "print(\"Random Seed: \", manualSeed)\n",
    "torch.manual_seed(manualSeed)\n",
    "\n",
    "# We provide three pairs of amplitude and phase in function simulation. \n",
    "# You can input your own simulated set by amp_name, phase_name = 'image path', 'image path'\n",
    "# amp_name: './image/triangle.jpg',   'cameraman', 'identity', 'cameraman'\n",
    "# phase_name: './image/trianglepha.jpg','identity',  'cameraman', 'brick'\n",
    "amp_name= 'cameraman' \n",
    "phase_name= 'brick'\n",
    "ampG = True # True False\n",
    "phaG = True\n",
    "\n",
    "# If part of the image: image_size = 256, probe_size = 50, pad = 0\n",
    "# If full image: image_size = 50, probe_size = 50, pad = 103. Rescale to 50, than pad ((103,103),(103,103))\n",
    "image_size = 50\n",
    "probe_size = 50\n",
    "pad = 103\n",
    "\n",
    "# Simulate the CDI patterns\n",
    "# y: the CDI patterns, sqrt(intensity)\n",
    "# probe: known probe, for CDI is an identity matrix\n",
    "# amplitude: groud truth amplitude\n",
    "# phase: groud truth phase\n",
    "y, probe, amplitude, phase, _ = simulation(imagesize=image_size, probesize = probe_size, pad=pad, amp_name = amp_name, phase_name = phase_name, amp_needgrayscale=ampG, pha_needgrayscale=phaG)\n",
    "\n"
   ]
  },
  {
   "cell_type": "code",
   "execution_count": null,
   "id": "1066fd4b",
   "metadata": {},
   "outputs": [],
   "source": [
    "# SCAN\n",
    "t0 = time.time()\n",
    "rec_amp,rec_phase = SIREN(y, probe, probe_size, image_size, amplitude, phase, amp_name, phase_name, epoches = 5000, registration=False)\n",
    "t1 = time.time()\n",
    "print('SIREN:', t1-t0)\n",
    "psnr_amp, psnr_pha, ssim_amp, ssim_pha, reg_amp_best, reg_pha_best = evaluate(rec_amp.cpu(),rec_phase.cpu(), amplitude.cpu(), phase.cpu(), amp_name, phase_name, image_size, probe_size, registration=False, log=True)\n",
    "print('psnr_amp:', psnr_amp)\n",
    "print('psnr_pha:', psnr_pha)\n",
    "print('ssim_amp:', ssim_amp)\n",
    "print('ssim_pha:', ssim_pha)\n",
    "fig, axes = plt.subplots(1,2, figsize=(18,6))\n",
    "axes[0].imshow(reg_amp_best, interpolation='nearest')\n",
    "axes[1].imshow(reg_pha_best, interpolation='nearest')\n",
    "plt.show()"
   ]
  }
 ],
 "metadata": {
  "kernelspec": {
   "display_name": "Python 3 (ipykernel)",
   "language": "python",
   "name": "python3"
  },
  "language_info": {
   "codemirror_mode": {
    "name": "ipython",
    "version": 3
   },
   "file_extension": ".py",
   "mimetype": "text/x-python",
   "name": "python",
   "nbconvert_exporter": "python",
   "pygments_lexer": "ipython3",
   "version": "3.8.10"
  }
 },
 "nbformat": 4,
 "nbformat_minor": 5
}
